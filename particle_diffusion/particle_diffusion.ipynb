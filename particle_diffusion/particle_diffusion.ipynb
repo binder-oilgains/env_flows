{
 "cells": [
  {
   "cell_type": "code",
   "execution_count": 31,
   "metadata": {},
   "outputs": [],
   "source": [
    "# Style settings\n",
    "# !jt -t grade3 -nfs 10 -lineh 115 -ofs 14 -tfs 14 -m 0.1,0.1,0.1,0.1 -cellw 90%"
   ]
  },
  {
   "cell_type": "markdown",
   "metadata": {},
   "source": [
    "A Diffusion \"Experiment\"\n",
    "==\n",
    "\n",
    "This notebook is a simulation of\n",
    "random parcel motion, and how the resulting\n",
    "fluxes relate to a diffusion coefficient.\n",
    "![box_setup.png](box_setup.png \"Box Setup\")\n",
    "\n",
    "The setup for our experiment is a rectangular box, in which fluid parcels\n",
    "are randomly distributed. Each parcel has a concentration which it retains\n",
    "throughout the experiment. The simulation carries out a random walk with\n",
    "a given length scale and time scale. The parcel concentrations are\n",
    "initialized to represent a linear gradient $\\frac{\\partial C}{\\partial x}$.\n",
    "We are interested in the flux of tracer mass through an imaginary surface\n",
    "in the middle of the box, perpendicular to the $x$ axis.\n",
    "\n",
    "As the simulation steps forward in time several quantities are recorded:\n",
    "\n",
    " * time $t$\n",
    " * the gradient $\\frac{\\partial C}{\\partial x}$\n",
    " * the mass of tracer on the *left* side of the imaginary surface. The box is closed\n",
    "   such that any change in tracer mass on the left side is due to a flux through the\n",
    "   surface in the middle of the box.\n",
    "\n",
    "After recording this data from the experiment, we then compare (a) the observed\n",
    "flux, (b) the diffusion coefficient inferred from this flux, and (c) the diffusion\n",
    "coefficient we would expect from a simple scaling.\n",
    "\n",
    "This notebook is a mix of text blocks (this is one), code blocks (just below here), and the output from\n",
    "running the code blocks."
   ]
  },
  {
   "cell_type": "markdown",
   "metadata": {},
   "source": [
    "Housekeeping: load libraries for computation and plotting\n",
    "--"
   ]
  },
  {
   "cell_type": "code",
   "execution_count": 35,
   "metadata": {},
   "outputs": [
    {
     "data": {
      "text/html": [
       "\n",
       "    <div class=\"bk-root\">\n",
       "        <a href=\"https://bokeh.org\" target=\"_blank\" class=\"bk-logo bk-logo-small bk-logo-notebook\"></a>\n",
       "        <span id=\"1285\">Loading BokehJS ...</span>\n",
       "    </div>"
      ]
     },
     "metadata": {},
     "output_type": "display_data"
    },
    {
     "data": {
      "application/javascript": [
       "\n",
       "(function(root) {\n",
       "  function now() {\n",
       "    return new Date();\n",
       "  }\n",
       "\n",
       "  var force = true;\n",
       "\n",
       "  if (typeof root._bokeh_onload_callbacks === \"undefined\" || force === true) {\n",
       "    root._bokeh_onload_callbacks = [];\n",
       "    root._bokeh_is_loading = undefined;\n",
       "  }\n",
       "\n",
       "  var JS_MIME_TYPE = 'application/javascript';\n",
       "  var HTML_MIME_TYPE = 'text/html';\n",
       "  var EXEC_MIME_TYPE = 'application/vnd.bokehjs_exec.v0+json';\n",
       "  var CLASS_NAME = 'output_bokeh rendered_html';\n",
       "\n",
       "  /**\n",
       "   * Render data to the DOM node\n",
       "   */\n",
       "  function render(props, node) {\n",
       "    var script = document.createElement(\"script\");\n",
       "    node.appendChild(script);\n",
       "  }\n",
       "\n",
       "  /**\n",
       "   * Handle when an output is cleared or removed\n",
       "   */\n",
       "  function handleClearOutput(event, handle) {\n",
       "    var cell = handle.cell;\n",
       "\n",
       "    var id = cell.output_area._bokeh_element_id;\n",
       "    var server_id = cell.output_area._bokeh_server_id;\n",
       "    // Clean up Bokeh references\n",
       "    if (id != null && id in Bokeh.index) {\n",
       "      Bokeh.index[id].model.document.clear();\n",
       "      delete Bokeh.index[id];\n",
       "    }\n",
       "\n",
       "    if (server_id !== undefined) {\n",
       "      // Clean up Bokeh references\n",
       "      var cmd = \"from bokeh.io.state import curstate; print(curstate().uuid_to_server['\" + server_id + \"'].get_sessions()[0].document.roots[0]._id)\";\n",
       "      cell.notebook.kernel.execute(cmd, {\n",
       "        iopub: {\n",
       "          output: function(msg) {\n",
       "            var id = msg.content.text.trim();\n",
       "            if (id in Bokeh.index) {\n",
       "              Bokeh.index[id].model.document.clear();\n",
       "              delete Bokeh.index[id];\n",
       "            }\n",
       "          }\n",
       "        }\n",
       "      });\n",
       "      // Destroy server and session\n",
       "      var cmd = \"import bokeh.io.notebook as ion; ion.destroy_server('\" + server_id + \"')\";\n",
       "      cell.notebook.kernel.execute(cmd);\n",
       "    }\n",
       "  }\n",
       "\n",
       "  /**\n",
       "   * Handle when a new output is added\n",
       "   */\n",
       "  function handleAddOutput(event, handle) {\n",
       "    var output_area = handle.output_area;\n",
       "    var output = handle.output;\n",
       "\n",
       "    // limit handleAddOutput to display_data with EXEC_MIME_TYPE content only\n",
       "    if ((output.output_type != \"display_data\") || (!output.data.hasOwnProperty(EXEC_MIME_TYPE))) {\n",
       "      return\n",
       "    }\n",
       "\n",
       "    var toinsert = output_area.element.find(\".\" + CLASS_NAME.split(' ')[0]);\n",
       "\n",
       "    if (output.metadata[EXEC_MIME_TYPE][\"id\"] !== undefined) {\n",
       "      toinsert[toinsert.length - 1].firstChild.textContent = output.data[JS_MIME_TYPE];\n",
       "      // store reference to embed id on output_area\n",
       "      output_area._bokeh_element_id = output.metadata[EXEC_MIME_TYPE][\"id\"];\n",
       "    }\n",
       "    if (output.metadata[EXEC_MIME_TYPE][\"server_id\"] !== undefined) {\n",
       "      var bk_div = document.createElement(\"div\");\n",
       "      bk_div.innerHTML = output.data[HTML_MIME_TYPE];\n",
       "      var script_attrs = bk_div.children[0].attributes;\n",
       "      for (var i = 0; i < script_attrs.length; i++) {\n",
       "        toinsert[toinsert.length - 1].firstChild.setAttribute(script_attrs[i].name, script_attrs[i].value);\n",
       "        toinsert[toinsert.length - 1].firstChild.textContent = bk_div.children[0].textContent\n",
       "      }\n",
       "      // store reference to server id on output_area\n",
       "      output_area._bokeh_server_id = output.metadata[EXEC_MIME_TYPE][\"server_id\"];\n",
       "    }\n",
       "  }\n",
       "\n",
       "  function register_renderer(events, OutputArea) {\n",
       "\n",
       "    function append_mime(data, metadata, element) {\n",
       "      // create a DOM node to render to\n",
       "      var toinsert = this.create_output_subarea(\n",
       "        metadata,\n",
       "        CLASS_NAME,\n",
       "        EXEC_MIME_TYPE\n",
       "      );\n",
       "      this.keyboard_manager.register_events(toinsert);\n",
       "      // Render to node\n",
       "      var props = {data: data, metadata: metadata[EXEC_MIME_TYPE]};\n",
       "      render(props, toinsert[toinsert.length - 1]);\n",
       "      element.append(toinsert);\n",
       "      return toinsert\n",
       "    }\n",
       "\n",
       "    /* Handle when an output is cleared or removed */\n",
       "    events.on('clear_output.CodeCell', handleClearOutput);\n",
       "    events.on('delete.Cell', handleClearOutput);\n",
       "\n",
       "    /* Handle when a new output is added */\n",
       "    events.on('output_added.OutputArea', handleAddOutput);\n",
       "\n",
       "    /**\n",
       "     * Register the mime type and append_mime function with output_area\n",
       "     */\n",
       "    OutputArea.prototype.register_mime_type(EXEC_MIME_TYPE, append_mime, {\n",
       "      /* Is output safe? */\n",
       "      safe: true,\n",
       "      /* Index of renderer in `output_area.display_order` */\n",
       "      index: 0\n",
       "    });\n",
       "  }\n",
       "\n",
       "  // register the mime type if in Jupyter Notebook environment and previously unregistered\n",
       "  if (root.Jupyter !== undefined) {\n",
       "    var events = require('base/js/events');\n",
       "    var OutputArea = require('notebook/js/outputarea').OutputArea;\n",
       "\n",
       "    if (OutputArea.prototype.mime_types().indexOf(EXEC_MIME_TYPE) == -1) {\n",
       "      register_renderer(events, OutputArea);\n",
       "    }\n",
       "  }\n",
       "\n",
       "  \n",
       "  if (typeof (root._bokeh_timeout) === \"undefined\" || force === true) {\n",
       "    root._bokeh_timeout = Date.now() + 5000;\n",
       "    root._bokeh_failed_load = false;\n",
       "  }\n",
       "\n",
       "  var NB_LOAD_WARNING = {'data': {'text/html':\n",
       "     \"<div style='background-color: #fdd'>\\n\"+\n",
       "     \"<p>\\n\"+\n",
       "     \"BokehJS does not appear to have successfully loaded. If loading BokehJS from CDN, this \\n\"+\n",
       "     \"may be due to a slow or bad network connection. Possible fixes:\\n\"+\n",
       "     \"</p>\\n\"+\n",
       "     \"<ul>\\n\"+\n",
       "     \"<li>re-rerun `output_notebook()` to attempt to load from CDN again, or</li>\\n\"+\n",
       "     \"<li>use INLINE resources instead, as so:</li>\\n\"+\n",
       "     \"</ul>\\n\"+\n",
       "     \"<code>\\n\"+\n",
       "     \"from bokeh.resources import INLINE\\n\"+\n",
       "     \"output_notebook(resources=INLINE)\\n\"+\n",
       "     \"</code>\\n\"+\n",
       "     \"</div>\"}};\n",
       "\n",
       "  function display_loaded() {\n",
       "    var el = document.getElementById(\"1285\");\n",
       "    if (el != null) {\n",
       "      el.textContent = \"BokehJS is loading...\";\n",
       "    }\n",
       "    if (root.Bokeh !== undefined) {\n",
       "      if (el != null) {\n",
       "        el.textContent = \"BokehJS \" + root.Bokeh.version + \" successfully loaded.\";\n",
       "      }\n",
       "    } else if (Date.now() < root._bokeh_timeout) {\n",
       "      setTimeout(display_loaded, 100)\n",
       "    }\n",
       "  }\n",
       "\n",
       "\n",
       "  function run_callbacks() {\n",
       "    try {\n",
       "      root._bokeh_onload_callbacks.forEach(function(callback) {\n",
       "        if (callback != null)\n",
       "          callback();\n",
       "      });\n",
       "    } finally {\n",
       "      delete root._bokeh_onload_callbacks\n",
       "    }\n",
       "    console.debug(\"Bokeh: all callbacks have finished\");\n",
       "  }\n",
       "\n",
       "  function load_libs(css_urls, js_urls, callback) {\n",
       "    if (css_urls == null) css_urls = [];\n",
       "    if (js_urls == null) js_urls = [];\n",
       "\n",
       "    root._bokeh_onload_callbacks.push(callback);\n",
       "    if (root._bokeh_is_loading > 0) {\n",
       "      console.debug(\"Bokeh: BokehJS is being loaded, scheduling callback at\", now());\n",
       "      return null;\n",
       "    }\n",
       "    if (js_urls == null || js_urls.length === 0) {\n",
       "      run_callbacks();\n",
       "      return null;\n",
       "    }\n",
       "    console.debug(\"Bokeh: BokehJS not loaded, scheduling load and callback at\", now());\n",
       "    root._bokeh_is_loading = css_urls.length + js_urls.length;\n",
       "\n",
       "    function on_load() {\n",
       "      root._bokeh_is_loading--;\n",
       "      if (root._bokeh_is_loading === 0) {\n",
       "        console.debug(\"Bokeh: all BokehJS libraries/stylesheets loaded\");\n",
       "        run_callbacks()\n",
       "      }\n",
       "    }\n",
       "\n",
       "    function on_error() {\n",
       "      console.error(\"failed to load \" + url);\n",
       "    }\n",
       "\n",
       "    for (var i = 0; i < css_urls.length; i++) {\n",
       "      var url = css_urls[i];\n",
       "      const element = document.createElement(\"link\");\n",
       "      element.onload = on_load;\n",
       "      element.onerror = on_error;\n",
       "      element.rel = \"stylesheet\";\n",
       "      element.type = \"text/css\";\n",
       "      element.href = url;\n",
       "      console.debug(\"Bokeh: injecting link tag for BokehJS stylesheet: \", url);\n",
       "      document.body.appendChild(element);\n",
       "    }\n",
       "\n",
       "    const hashes = {\"https://cdn.bokeh.org/bokeh/release/bokeh-2.2.3.min.js\": \"T2yuo9Oe71Cz/I4X9Ac5+gpEa5a8PpJCDlqKYO0CfAuEszu1JrXLl8YugMqYe3sM\", \"https://cdn.bokeh.org/bokeh/release/bokeh-widgets-2.2.3.min.js\": \"98GDGJ0kOMCUMUePhksaQ/GYgB3+NH9h996V88sh3aOiUNX3N+fLXAtry6xctSZ6\", \"https://cdn.bokeh.org/bokeh/release/bokeh-tables-2.2.3.min.js\": \"89bArO+nlbP3sgakeHjCo1JYxYR5wufVgA3IbUvDY+K7w4zyxJqssu7wVnfeKCq8\"};\n",
       "\n",
       "    for (var i = 0; i < js_urls.length; i++) {\n",
       "      var url = js_urls[i];\n",
       "      var element = document.createElement('script');\n",
       "      element.onload = on_load;\n",
       "      element.onerror = on_error;\n",
       "      element.async = false;\n",
       "      element.src = url;\n",
       "      if (url in hashes) {\n",
       "        element.crossOrigin = \"anonymous\";\n",
       "        element.integrity = \"sha384-\" + hashes[url];\n",
       "      }\n",
       "      console.debug(\"Bokeh: injecting script tag for BokehJS library: \", url);\n",
       "      document.head.appendChild(element);\n",
       "    }\n",
       "  };\n",
       "\n",
       "  function inject_raw_css(css) {\n",
       "    const element = document.createElement(\"style\");\n",
       "    element.appendChild(document.createTextNode(css));\n",
       "    document.body.appendChild(element);\n",
       "  }\n",
       "\n",
       "  \n",
       "  var js_urls = [\"https://cdn.bokeh.org/bokeh/release/bokeh-2.2.3.min.js\", \"https://cdn.bokeh.org/bokeh/release/bokeh-widgets-2.2.3.min.js\", \"https://cdn.bokeh.org/bokeh/release/bokeh-tables-2.2.3.min.js\"];\n",
       "  var css_urls = [];\n",
       "  \n",
       "\n",
       "  var inline_js = [\n",
       "    function(Bokeh) {\n",
       "      Bokeh.set_log_level(\"info\");\n",
       "    },\n",
       "    function(Bokeh) {\n",
       "    \n",
       "    \n",
       "    }\n",
       "  ];\n",
       "\n",
       "  function run_inline_js() {\n",
       "    \n",
       "    if (root.Bokeh !== undefined || force === true) {\n",
       "      \n",
       "    for (var i = 0; i < inline_js.length; i++) {\n",
       "      inline_js[i].call(root, root.Bokeh);\n",
       "    }\n",
       "    if (force === true) {\n",
       "        display_loaded();\n",
       "      }} else if (Date.now() < root._bokeh_timeout) {\n",
       "      setTimeout(run_inline_js, 100);\n",
       "    } else if (!root._bokeh_failed_load) {\n",
       "      console.log(\"Bokeh: BokehJS failed to load within specified timeout.\");\n",
       "      root._bokeh_failed_load = true;\n",
       "    } else if (force !== true) {\n",
       "      var cell = $(document.getElementById(\"1285\")).parents('.cell').data().cell;\n",
       "      cell.output_area.append_execute_result(NB_LOAD_WARNING)\n",
       "    }\n",
       "\n",
       "  }\n",
       "\n",
       "  if (root._bokeh_is_loading === 0) {\n",
       "    console.debug(\"Bokeh: BokehJS loaded, going straight to plotting\");\n",
       "    run_inline_js();\n",
       "  } else {\n",
       "    load_libs(css_urls, js_urls, function() {\n",
       "      console.debug(\"Bokeh: BokehJS plotting callback run at\", now());\n",
       "      run_inline_js();\n",
       "    });\n",
       "  }\n",
       "}(window));"
      ],
      "application/vnd.bokehjs_load.v0+json": "\n(function(root) {\n  function now() {\n    return new Date();\n  }\n\n  var force = true;\n\n  if (typeof root._bokeh_onload_callbacks === \"undefined\" || force === true) {\n    root._bokeh_onload_callbacks = [];\n    root._bokeh_is_loading = undefined;\n  }\n\n  \n\n  \n  if (typeof (root._bokeh_timeout) === \"undefined\" || force === true) {\n    root._bokeh_timeout = Date.now() + 5000;\n    root._bokeh_failed_load = false;\n  }\n\n  var NB_LOAD_WARNING = {'data': {'text/html':\n     \"<div style='background-color: #fdd'>\\n\"+\n     \"<p>\\n\"+\n     \"BokehJS does not appear to have successfully loaded. If loading BokehJS from CDN, this \\n\"+\n     \"may be due to a slow or bad network connection. Possible fixes:\\n\"+\n     \"</p>\\n\"+\n     \"<ul>\\n\"+\n     \"<li>re-rerun `output_notebook()` to attempt to load from CDN again, or</li>\\n\"+\n     \"<li>use INLINE resources instead, as so:</li>\\n\"+\n     \"</ul>\\n\"+\n     \"<code>\\n\"+\n     \"from bokeh.resources import INLINE\\n\"+\n     \"output_notebook(resources=INLINE)\\n\"+\n     \"</code>\\n\"+\n     \"</div>\"}};\n\n  function display_loaded() {\n    var el = document.getElementById(\"1285\");\n    if (el != null) {\n      el.textContent = \"BokehJS is loading...\";\n    }\n    if (root.Bokeh !== undefined) {\n      if (el != null) {\n        el.textContent = \"BokehJS \" + root.Bokeh.version + \" successfully loaded.\";\n      }\n    } else if (Date.now() < root._bokeh_timeout) {\n      setTimeout(display_loaded, 100)\n    }\n  }\n\n\n  function run_callbacks() {\n    try {\n      root._bokeh_onload_callbacks.forEach(function(callback) {\n        if (callback != null)\n          callback();\n      });\n    } finally {\n      delete root._bokeh_onload_callbacks\n    }\n    console.debug(\"Bokeh: all callbacks have finished\");\n  }\n\n  function load_libs(css_urls, js_urls, callback) {\n    if (css_urls == null) css_urls = [];\n    if (js_urls == null) js_urls = [];\n\n    root._bokeh_onload_callbacks.push(callback);\n    if (root._bokeh_is_loading > 0) {\n      console.debug(\"Bokeh: BokehJS is being loaded, scheduling callback at\", now());\n      return null;\n    }\n    if (js_urls == null || js_urls.length === 0) {\n      run_callbacks();\n      return null;\n    }\n    console.debug(\"Bokeh: BokehJS not loaded, scheduling load and callback at\", now());\n    root._bokeh_is_loading = css_urls.length + js_urls.length;\n\n    function on_load() {\n      root._bokeh_is_loading--;\n      if (root._bokeh_is_loading === 0) {\n        console.debug(\"Bokeh: all BokehJS libraries/stylesheets loaded\");\n        run_callbacks()\n      }\n    }\n\n    function on_error() {\n      console.error(\"failed to load \" + url);\n    }\n\n    for (var i = 0; i < css_urls.length; i++) {\n      var url = css_urls[i];\n      const element = document.createElement(\"link\");\n      element.onload = on_load;\n      element.onerror = on_error;\n      element.rel = \"stylesheet\";\n      element.type = \"text/css\";\n      element.href = url;\n      console.debug(\"Bokeh: injecting link tag for BokehJS stylesheet: \", url);\n      document.body.appendChild(element);\n    }\n\n    const hashes = {\"https://cdn.bokeh.org/bokeh/release/bokeh-2.2.3.min.js\": \"T2yuo9Oe71Cz/I4X9Ac5+gpEa5a8PpJCDlqKYO0CfAuEszu1JrXLl8YugMqYe3sM\", \"https://cdn.bokeh.org/bokeh/release/bokeh-widgets-2.2.3.min.js\": \"98GDGJ0kOMCUMUePhksaQ/GYgB3+NH9h996V88sh3aOiUNX3N+fLXAtry6xctSZ6\", \"https://cdn.bokeh.org/bokeh/release/bokeh-tables-2.2.3.min.js\": \"89bArO+nlbP3sgakeHjCo1JYxYR5wufVgA3IbUvDY+K7w4zyxJqssu7wVnfeKCq8\"};\n\n    for (var i = 0; i < js_urls.length; i++) {\n      var url = js_urls[i];\n      var element = document.createElement('script');\n      element.onload = on_load;\n      element.onerror = on_error;\n      element.async = false;\n      element.src = url;\n      if (url in hashes) {\n        element.crossOrigin = \"anonymous\";\n        element.integrity = \"sha384-\" + hashes[url];\n      }\n      console.debug(\"Bokeh: injecting script tag for BokehJS library: \", url);\n      document.head.appendChild(element);\n    }\n  };\n\n  function inject_raw_css(css) {\n    const element = document.createElement(\"style\");\n    element.appendChild(document.createTextNode(css));\n    document.body.appendChild(element);\n  }\n\n  \n  var js_urls = [\"https://cdn.bokeh.org/bokeh/release/bokeh-2.2.3.min.js\", \"https://cdn.bokeh.org/bokeh/release/bokeh-widgets-2.2.3.min.js\", \"https://cdn.bokeh.org/bokeh/release/bokeh-tables-2.2.3.min.js\"];\n  var css_urls = [];\n  \n\n  var inline_js = [\n    function(Bokeh) {\n      Bokeh.set_log_level(\"info\");\n    },\n    function(Bokeh) {\n    \n    \n    }\n  ];\n\n  function run_inline_js() {\n    \n    if (root.Bokeh !== undefined || force === true) {\n      \n    for (var i = 0; i < inline_js.length; i++) {\n      inline_js[i].call(root, root.Bokeh);\n    }\n    if (force === true) {\n        display_loaded();\n      }} else if (Date.now() < root._bokeh_timeout) {\n      setTimeout(run_inline_js, 100);\n    } else if (!root._bokeh_failed_load) {\n      console.log(\"Bokeh: BokehJS failed to load within specified timeout.\");\n      root._bokeh_failed_load = true;\n    } else if (force !== true) {\n      var cell = $(document.getElementById(\"1285\")).parents('.cell').data().cell;\n      cell.output_area.append_execute_result(NB_LOAD_WARNING)\n    }\n\n  }\n\n  if (root._bokeh_is_loading === 0) {\n    console.debug(\"Bokeh: BokehJS loaded, going straight to plotting\");\n    run_inline_js();\n  } else {\n    load_libs(css_urls, js_urls, function() {\n      console.debug(\"Bokeh: BokehJS plotting callback run at\", now());\n      run_inline_js();\n    });\n  }\n}(window));"
     },
     "metadata": {},
     "output_type": "display_data"
    }
   ],
   "source": [
    "# Set up the notebook for computation and live plotting\n",
    "from bokeh.io import push_notebook, show, output_notebook\n",
    "from bokeh.layouts import row\n",
    "from bokeh.plotting import figure\n",
    "from bokeh import palettes\n",
    "from bokeh.transform import linear_cmap\n",
    "from bokeh.models import ColorBar, ColumnDataSource\n",
    "output_notebook()\n",
    "# Load code to make our simulation interactive in this notebook.\n",
    "import ipywidgets as widgets\n",
    "# Our simulation will use functions from numpy\n",
    "import numpy as np"
   ]
  },
  {
   "cell_type": "markdown",
   "metadata": {},
   "source": [
    "Define the parameters of the simulation\n",
    "--"
   ]
  },
  {
   "cell_type": "code",
   "execution_count": 34,
   "metadata": {},
   "outputs": [],
   "source": [
    "N=4000 # number of parcels\n",
    "L=0.05 # length scale for random steps\n",
    "dt=1.0 # time scale for random steps\n",
    "# dimensions of the box the particles move around in.\n",
    "box=[ [-0.5,0.5], # range of x dimension \n",
    "      [-0.5,0.5], # range of y dimension\n",
    "      [-0.5,0.5]] # range of z dimension\n",
    "# We will look at the flux through a surface in the middle of\n",
    "# the box, perpendicular to the x axis. \n",
    "box_size=[ high-low for low,high in box]\n",
    "box_A=box_size[1]*box_size[2] # area of that surface\n",
    "box_V=box_size[0]*box_size[1]*box_size[2] # volume of the whole box.\n",
    "center_x=(box[0][0] + box[0][1])/2.0 # measure fluxes through surface x=center_x"
   ]
  },
  {
   "cell_type": "markdown",
   "metadata": {},
   "source": [
    "Define the simulation\n",
    "--\n",
    "\n",
    "Define the initial simulation state (parcel locations and concentrations),\n",
    "how the state evolves in time, and how data is extracted at each step\n",
    "for later analysis"
   ]
  },
  {
   "cell_type": "code",
   "execution_count": 11,
   "metadata": {},
   "outputs": [],
   "source": [
    "def initialize():\n",
    "    # These define the instantaneous state of the simulation\n",
    "    global parcel_x,parcel_C,t\n",
    "    # These quantities we record as time progresses\n",
    "    global mass_on_left, times, gradients\n",
    "\n",
    "    # Set the initial conditions:\n",
    "    t=0.0 # simulation time.\n",
    "    parcel_x=np.zeros( [N,3], np.float64) # [Nparcels,{x,y,z}] ~ meters\n",
    "    for dim in [0,1,2]:\n",
    "        # Parcels randomly distributed throughout the domain\n",
    "        parcel_x[:,dim]=np.random.uniform( box[dim][0], box[dim][1], size=N)\n",
    "\n",
    "    # parcel concentration is initialize with the x coordinate to create a \n",
    "    # smooth gradient in x.\n",
    "    parcel_C=1+parcel_x[:,0] # [Nparcels] ~ g/m3 (concentration)\n",
    "\n",
    "    # Simulation will update parcel locations, and at each step\n",
    "    # calculate these summary quantities:\n",
    "    mass_on_left=[] # mass of tracer on the left side of the box [Ntimesteps]~g\n",
    "    times=[]        # simulation time associated with each step. [Ntimesteps]~s\n",
    "    gradients=[]    # concentration gradient [Ntimesteps]~ (g/m3)/m\n",
    "\n",
    "# The code for our simulation has two tasks:\n",
    "#  1. Update the state (parcel_x,t)\n",
    "#  2. Record summary information\n",
    "\n",
    "def step_forward():\n",
    "    global parcel_x,t\n",
    "\n",
    "    # For each direction, add a random jump, uniformly\n",
    "    # random between [-L,+L]\n",
    "    for dim in [0,1,2]:\n",
    "        parcel_x[:,dim]+=np.random.uniform(low=-L,high=L,size=N)\n",
    "        \n",
    "        # Parcels that would leave our box get \"bounced\"\n",
    "        # back into the box\n",
    "        outside=parcel_x[:,dim] - parcel_x[:,dim].clip(*box[dim])\n",
    "        parcel_x[:,dim]-=2*outside\n",
    "    t+=dt\n",
    "    \n",
    "def record():\n",
    "    times.append(t)\n",
    "    C_left=np.mean(parcel_C[ parcel_x[:,0]<center_x])\n",
    "    V_left=(center_x-box[0][0])*box_size[1]*box_size[2]\n",
    "    mass_on_left.append( C_left*V_left )\n",
    "    slope,inter =np.polyfit(parcel_x[:,0],parcel_C,1)\n",
    "    gradients.append(slope)\n",
    "\n",
    "initialize() # Create initial state\n",
    "record() # Save the initial state."
   ]
  },
  {
   "cell_type": "markdown",
   "metadata": {},
   "source": [
    "Plot the simulation state\n",
    "--\n",
    "\n",
    "Plot parcels and set up the animation."
   ]
  },
  {
   "cell_type": "code",
   "execution_count": 36,
   "metadata": {},
   "outputs": [
    {
     "data": {
      "text/html": [
       "\n",
       "\n",
       "\n",
       "\n",
       "\n",
       "\n",
       "  <div class=\"bk-root\" id=\"3a230b90-06ff-426b-9e58-5a9de726d0a9\" data-root-id=\"1288\"></div>\n"
      ]
     },
     "metadata": {},
     "output_type": "display_data"
    },
    {
     "data": {
      "application/javascript": [
       "(function(root) {\n",
       "  function embed_document(root) {\n",
       "    \n",
       "  var docs_json = {\"b4055a58-b604-4621-b5ad-544c5be83f27\":{\"roots\":{\"references\":[{\"attributes\":{\"below\":[{\"id\":\"1299\"}],\"center\":[{\"id\":\"1302\"},{\"id\":\"1306\"}],\"left\":[{\"id\":\"1303\"}],\"plot_height\":300,\"plot_width\":800,\"renderers\":[{\"id\":\"1324\"},{\"id\":\"1330\"}],\"right\":[{\"id\":\"1326\"}],\"title\":{\"id\":\"1289\"},\"toolbar\":{\"id\":\"1314\"},\"toolbar_location\":null,\"x_range\":{\"id\":\"1291\"},\"x_scale\":{\"id\":\"1295\"},\"y_range\":{\"id\":\"1293\"},\"y_scale\":{\"id\":\"1297\"}},\"id\":\"1288\",\"subtype\":\"Figure\",\"type\":\"Plot\"},{\"attributes\":{},\"id\":\"1354\",\"type\":\"Selection\"},{\"attributes\":{\"line_dash\":[6],\"line_width\":2.5,\"x\":{\"field\":\"x\"},\"y\":{\"field\":\"y\"}},\"id\":\"1328\",\"type\":\"Line\"},{\"attributes\":{\"source\":{\"id\":\"1286\"}},\"id\":\"1325\",\"type\":\"CDSView\"},{\"attributes\":{},\"id\":\"1348\",\"type\":\"BasicTicker\"},{\"attributes\":{},\"id\":\"1352\",\"type\":\"Selection\"},{\"attributes\":{},\"id\":\"1353\",\"type\":\"UnionRenderers\"},{\"attributes\":{\"data_source\":{\"id\":\"1327\"},\"glyph\":{\"id\":\"1328\"},\"hover_glyph\":null,\"muted_glyph\":null,\"nonselection_glyph\":{\"id\":\"1329\"},\"selection_glyph\":null,\"view\":{\"id\":\"1331\"}},\"id\":\"1330\",\"type\":\"GlyphRenderer\"},{\"attributes\":{\"source\":{\"id\":\"1327\"}},\"id\":\"1331\",\"type\":\"CDSView\"},{\"attributes\":{\"line_alpha\":0.1,\"line_dash\":[6],\"line_width\":2.5,\"x\":{\"field\":\"x\"},\"y\":{\"field\":\"y\"}},\"id\":\"1329\",\"type\":\"Line\"},{\"attributes\":{\"bottom_units\":\"screen\",\"fill_alpha\":0.5,\"fill_color\":\"lightgrey\",\"left_units\":\"screen\",\"level\":\"overlay\",\"line_alpha\":1.0,\"line_color\":\"black\",\"line_dash\":[4,4],\"line_width\":2,\"right_units\":\"screen\",\"top_units\":\"screen\"},\"id\":\"1313\",\"type\":\"BoxAnnotation\"},{\"attributes\":{\"fill_alpha\":{\"value\":0.6},\"fill_color\":{\"field\":\"C\",\"transform\":{\"id\":\"1287\"}},\"line_color\":{\"value\":null},\"radius\":{\"units\":\"data\",\"value\":0.005},\"x\":{\"field\":\"x\"},\"y\":{\"field\":\"y\"}},\"id\":\"1322\",\"type\":\"Circle\"},{\"attributes\":{\"data\":{\"x\":[0.0,0.0],\"y\":[-0.5,0.5]},\"selected\":{\"id\":\"1354\"},\"selection_policy\":{\"id\":\"1355\"}},\"id\":\"1327\",\"type\":\"ColumnDataSource\"},{\"attributes\":{\"high\":1.4996716353864508,\"low\":0.5000225229660791,\"palette\":[\"#0C0786\",\"#100787\",\"#130689\",\"#15068A\",\"#18068B\",\"#1B068C\",\"#1D068D\",\"#1F058E\",\"#21058F\",\"#230590\",\"#250591\",\"#270592\",\"#290593\",\"#2B0594\",\"#2D0494\",\"#2F0495\",\"#310496\",\"#330497\",\"#340498\",\"#360498\",\"#380499\",\"#3A049A\",\"#3B039A\",\"#3D039B\",\"#3F039C\",\"#40039C\",\"#42039D\",\"#44039E\",\"#45039E\",\"#47029F\",\"#49029F\",\"#4A02A0\",\"#4C02A1\",\"#4E02A1\",\"#4F02A2\",\"#5101A2\",\"#5201A3\",\"#5401A3\",\"#5601A3\",\"#5701A4\",\"#5901A4\",\"#5A00A5\",\"#5C00A5\",\"#5E00A5\",\"#5F00A6\",\"#6100A6\",\"#6200A6\",\"#6400A7\",\"#6500A7\",\"#6700A7\",\"#6800A7\",\"#6A00A7\",\"#6C00A8\",\"#6D00A8\",\"#6F00A8\",\"#7000A8\",\"#7200A8\",\"#7300A8\",\"#7500A8\",\"#7601A8\",\"#7801A8\",\"#7901A8\",\"#7B02A8\",\"#7C02A7\",\"#7E03A7\",\"#7F03A7\",\"#8104A7\",\"#8204A7\",\"#8405A6\",\"#8506A6\",\"#8607A6\",\"#8807A5\",\"#8908A5\",\"#8B09A4\",\"#8C0AA4\",\"#8E0CA4\",\"#8F0DA3\",\"#900EA3\",\"#920FA2\",\"#9310A1\",\"#9511A1\",\"#9612A0\",\"#9713A0\",\"#99149F\",\"#9A159E\",\"#9B179E\",\"#9D189D\",\"#9E199C\",\"#9F1A9B\",\"#A01B9B\",\"#A21C9A\",\"#A31D99\",\"#A41E98\",\"#A51F97\",\"#A72197\",\"#A82296\",\"#A92395\",\"#AA2494\",\"#AC2593\",\"#AD2692\",\"#AE2791\",\"#AF2890\",\"#B02A8F\",\"#B12B8F\",\"#B22C8E\",\"#B42D8D\",\"#B52E8C\",\"#B62F8B\",\"#B7308A\",\"#B83289\",\"#B93388\",\"#BA3487\",\"#BB3586\",\"#BC3685\",\"#BD3784\",\"#BE3883\",\"#BF3982\",\"#C03B81\",\"#C13C80\",\"#C23D80\",\"#C33E7F\",\"#C43F7E\",\"#C5407D\",\"#C6417C\",\"#C7427B\",\"#C8447A\",\"#C94579\",\"#CA4678\",\"#CB4777\",\"#CC4876\",\"#CD4975\",\"#CE4A75\",\"#CF4B74\",\"#D04D73\",\"#D14E72\",\"#D14F71\",\"#D25070\",\"#D3516F\",\"#D4526E\",\"#D5536D\",\"#D6556D\",\"#D7566C\",\"#D7576B\",\"#D8586A\",\"#D95969\",\"#DA5A68\",\"#DB5B67\",\"#DC5D66\",\"#DC5E66\",\"#DD5F65\",\"#DE6064\",\"#DF6163\",\"#DF6262\",\"#E06461\",\"#E16560\",\"#E26660\",\"#E3675F\",\"#E3685E\",\"#E46A5D\",\"#E56B5C\",\"#E56C5B\",\"#E66D5A\",\"#E76E5A\",\"#E87059\",\"#E87158\",\"#E97257\",\"#EA7356\",\"#EA7455\",\"#EB7654\",\"#EC7754\",\"#EC7853\",\"#ED7952\",\"#ED7B51\",\"#EE7C50\",\"#EF7D4F\",\"#EF7E4E\",\"#F0804D\",\"#F0814D\",\"#F1824C\",\"#F2844B\",\"#F2854A\",\"#F38649\",\"#F38748\",\"#F48947\",\"#F48A47\",\"#F58B46\",\"#F58D45\",\"#F68E44\",\"#F68F43\",\"#F69142\",\"#F79241\",\"#F79341\",\"#F89540\",\"#F8963F\",\"#F8983E\",\"#F9993D\",\"#F99A3C\",\"#FA9C3B\",\"#FA9D3A\",\"#FA9F3A\",\"#FAA039\",\"#FBA238\",\"#FBA337\",\"#FBA436\",\"#FCA635\",\"#FCA735\",\"#FCA934\",\"#FCAA33\",\"#FCAC32\",\"#FCAD31\",\"#FDAF31\",\"#FDB030\",\"#FDB22F\",\"#FDB32E\",\"#FDB52D\",\"#FDB62D\",\"#FDB82C\",\"#FDB92B\",\"#FDBB2B\",\"#FDBC2A\",\"#FDBE29\",\"#FDC029\",\"#FDC128\",\"#FDC328\",\"#FDC427\",\"#FDC626\",\"#FCC726\",\"#FCC926\",\"#FCCB25\",\"#FCCC25\",\"#FCCE25\",\"#FBD024\",\"#FBD124\",\"#FBD324\",\"#FAD524\",\"#FAD624\",\"#FAD824\",\"#F9D924\",\"#F9DB24\",\"#F8DD24\",\"#F8DF24\",\"#F7E024\",\"#F7E225\",\"#F6E425\",\"#F6E525\",\"#F5E726\",\"#F5E926\",\"#F4EA26\",\"#F3EC26\",\"#F3EE26\",\"#F2F026\",\"#F2F126\",\"#F1F326\",\"#F0F525\",\"#F0F623\",\"#EFF821\"]},\"id\":\"1287\",\"type\":\"LinearColorMapper\"},{\"attributes\":{},\"id\":\"1300\",\"type\":\"BasicTicker\"},{\"attributes\":{},\"id\":\"1347\",\"type\":\"BasicTickFormatter\"},{\"attributes\":{},\"id\":\"1295\",\"type\":\"LinearScale\"},{\"attributes\":{\"axis\":{\"id\":\"1299\"},\"ticker\":null},\"id\":\"1302\",\"type\":\"Grid\"},{\"attributes\":{},\"id\":\"1297\",\"type\":\"LinearScale\"},{\"attributes\":{},\"id\":\"1312\",\"type\":\"HelpTool\"},{\"attributes\":{\"end\":0.5,\"start\":-0.5},\"id\":\"1293\",\"type\":\"Range1d\"},{\"attributes\":{\"formatter\":{\"id\":\"1345\"},\"ticker\":{\"id\":\"1300\"}},\"id\":\"1299\",\"type\":\"LinearAxis\"},{\"attributes\":{\"axis\":{\"id\":\"1303\"},\"dimension\":1,\"ticker\":null},\"id\":\"1306\",\"type\":\"Grid\"},{\"attributes\":{\"color_mapper\":{\"id\":\"1287\"},\"formatter\":{\"id\":\"1347\"},\"location\":[0,0],\"ticker\":{\"id\":\"1348\"},\"title\":\"Conc. (g/m3)\",\"width\":8},\"id\":\"1326\",\"type\":\"ColorBar\"},{\"attributes\":{\"formatter\":{\"id\":\"1349\"},\"ticker\":{\"id\":\"1304\"}},\"id\":\"1303\",\"type\":\"LinearAxis\"},{\"attributes\":{},\"id\":\"1304\",\"type\":\"BasicTicker\"},{\"attributes\":{\"data\":{\"C\":{\"__ndarray__\":\"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\",\"dtype\":\"float64\",\"order\":\"little\",\"shape\":[4000]},\"x\":{\"__ndarray__\":\"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\",\"dtype\":\"float64\",\"order\":\"little\",\"shape\":[4000]},\"y\":{\"__ndarray__\":\"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\",\"dtype\":\"float64\",\"order\":\"little\",\"shape\":[4000]}},\"selected\":{\"id\":\"1352\"},\"selection_policy\":{\"id\":\"1353\"}},\"id\":\"1286\",\"type\":\"ColumnDataSource\"},{\"attributes\":{\"end\":0.5,\"start\":-0.5},\"id\":\"1291\",\"type\":\"Range1d\"},{\"attributes\":{},\"id\":\"1345\",\"type\":\"BasicTickFormatter\"},{\"attributes\":{\"fill_alpha\":{\"value\":0.1},\"fill_color\":{\"field\":\"C\",\"transform\":{\"id\":\"1287\"}},\"line_alpha\":{\"value\":0.1},\"line_color\":{\"value\":null},\"radius\":{\"units\":\"data\",\"value\":0.005},\"x\":{\"field\":\"x\"},\"y\":{\"field\":\"y\"}},\"id\":\"1323\",\"type\":\"Circle\"},{\"attributes\":{\"active_drag\":\"auto\",\"active_inspect\":\"auto\",\"active_multi\":null,\"active_scroll\":\"auto\",\"active_tap\":\"auto\",\"tools\":[{\"id\":\"1307\"},{\"id\":\"1308\"},{\"id\":\"1309\"},{\"id\":\"1310\"},{\"id\":\"1311\"},{\"id\":\"1312\"}]},\"id\":\"1314\",\"type\":\"Toolbar\"},{\"attributes\":{\"text\":\"t=53.0s\"},\"id\":\"1289\",\"type\":\"Title\"},{\"attributes\":{},\"id\":\"1308\",\"type\":\"WheelZoomTool\"},{\"attributes\":{},\"id\":\"1307\",\"type\":\"PanTool\"},{\"attributes\":{},\"id\":\"1355\",\"type\":\"UnionRenderers\"},{\"attributes\":{\"overlay\":{\"id\":\"1313\"}},\"id\":\"1309\",\"type\":\"BoxZoomTool\"},{\"attributes\":{},\"id\":\"1349\",\"type\":\"BasicTickFormatter\"},{\"attributes\":{},\"id\":\"1310\",\"type\":\"SaveTool\"},{\"attributes\":{\"data_source\":{\"id\":\"1286\"},\"glyph\":{\"id\":\"1322\"},\"hover_glyph\":null,\"muted_glyph\":null,\"nonselection_glyph\":{\"id\":\"1323\"},\"selection_glyph\":null,\"view\":{\"id\":\"1325\"}},\"id\":\"1324\",\"type\":\"GlyphRenderer\"},{\"attributes\":{},\"id\":\"1311\",\"type\":\"ResetTool\"}],\"root_ids\":[\"1288\"]},\"title\":\"Bokeh Application\",\"version\":\"2.2.3\"}};\n",
       "  var render_items = [{\"docid\":\"b4055a58-b604-4621-b5ad-544c5be83f27\",\"notebook_comms_target\":\"1356\",\"root_ids\":[\"1288\"],\"roots\":{\"1288\":\"3a230b90-06ff-426b-9e58-5a9de726d0a9\"}}];\n",
       "  root.Bokeh.embed.embed_items_notebook(docs_json, render_items);\n",
       "\n",
       "  }\n",
       "  if (root.Bokeh !== undefined) {\n",
       "    embed_document(root);\n",
       "  } else {\n",
       "    var attempts = 0;\n",
       "    var timer = setInterval(function(root) {\n",
       "      if (root.Bokeh !== undefined) {\n",
       "        clearInterval(timer);\n",
       "        embed_document(root);\n",
       "      } else {\n",
       "        attempts++;\n",
       "        if (attempts > 100) {\n",
       "          clearInterval(timer);\n",
       "          console.log(\"Bokeh: ERROR: Unable to run BokehJS code because BokehJS library is missing\");\n",
       "        }\n",
       "      }\n",
       "    }, 10, root)\n",
       "  }\n",
       "})(window);"
      ],
      "application/vnd.bokehjs_exec.v0+json": ""
     },
     "metadata": {
      "application/vnd.bokehjs_exec.v0+json": {
       "id": "1288"
      }
     },
     "output_type": "display_data"
    },
    {
     "data": {
      "application/vnd.jupyter.widget-view+json": {
       "model_id": "d78a563003464d7f9ff38900608217d2",
       "version_major": 2,
       "version_minor": 0
      },
      "text/plain": [
       "interactive(children=(Play(value=0, description='step', interval=20, max=10000), FloatSlider(value=0.05, descr…"
      ]
     },
     "metadata": {},
     "output_type": "display_data"
    },
    {
     "data": {
      "text/plain": [
       "''"
      ]
     },
     "execution_count": 36,
     "metadata": {},
     "output_type": "execute_result"
    }
   ],
   "source": [
    "parcel_data=ColumnDataSource(dict(x=parcel_x[:,0],\n",
    "                                  y=parcel_x[:,1],\n",
    "                                  C=parcel_C))\n",
    "\n",
    "# Format current time of the simulation\n",
    "def title_txt(): return f\"t={t:.1f}s\"\n",
    "\n",
    "colors=linear_cmap(field_name='C',low=parcel_C.min(),high=parcel_C.max(),\n",
    "                   palette=palettes.Plasma256)\n",
    "p = figure(x_range=box[0], y_range=box[1],plot_width=800, plot_height=300,\n",
    "           toolbar_location=None,title=title_txt())\n",
    "r = p.circle(x='x',y='y', radius=0.005, fill_color=colors, fill_alpha=0.6, \n",
    "             line_color=None, source=parcel_data)\n",
    "color_bar = ColorBar(color_mapper=colors['transform'], width=8,  location=(0,0),\n",
    "                     title=\"Conc. (g/m3)\")\n",
    "p.line(x=[center_x,center_x],y=box[1],line_color='black',line_dash='dashed',line_width=2.5)\n",
    "p.add_layout(color_bar, 'right')\n",
    "\n",
    "# get an explicit handle to update the next show cell with\n",
    "target = show(p, notebook_handle=True)\n",
    "\n",
    "def plot_update(step,length):\n",
    "    # Update the simulation state for the given step number\n",
    "    # and length scale\n",
    "    global L\n",
    "    L=length\n",
    "    if (step==0) and (t>0):\n",
    "        initialize()\n",
    "        r.data_source.data['C']=parcel_C\n",
    "    elif step>0:\n",
    "        step_forward()\n",
    "    record()\n",
    "\n",
    "    r.data_source.data['x']=parcel_x[:,0]\n",
    "    r.data_source.data['y']=parcel_x[:,1]\n",
    "    p.title.text=title_txt()\n",
    "    push_notebook(handle=target)\n",
    "        \n",
    "widgets.interact(plot_update,\n",
    "                 step=widgets.Play(value=0,\n",
    "                                   min=0, max=10000,\n",
    "                                   step=1, interval=20),\n",
    "                 length=widgets.FloatSlider(value=0.05,min=0,max=0.2,\n",
    "                                        step=0.005,\n",
    "                                        description='L:',\n",
    "                                        orientation='horizontal',\n",
    "                                        readout=True,\n",
    "                                        readout_format='.3f'))\n",
    ";"
   ]
  },
  {
   "cell_type": "markdown",
   "metadata": {},
   "source": [
    "How did the particle distribution evolve over time?\n",
    "--\n",
    "First, we consider the mass of tracer on the left side of the domain"
   ]
  },
  {
   "cell_type": "code",
   "execution_count": 37,
   "metadata": {},
   "outputs": [
    {
     "data": {
      "text/html": [
       "\n",
       "\n",
       "\n",
       "\n",
       "\n",
       "\n",
       "  <div class=\"bk-root\" id=\"8763ac9b-821f-4ab4-ab4c-6e392c5fe5a4\" data-root-id=\"1592\"></div>\n"
      ]
     },
     "metadata": {},
     "output_type": "display_data"
    },
    {
     "data": {
      "application/javascript": [
       "(function(root) {\n",
       "  function embed_document(root) {\n",
       "    \n",
       "  var docs_json = {\"56a49419-723a-43d7-9f9e-31a05186202e\":{\"roots\":{\"references\":[{\"attributes\":{\"below\":[{\"id\":\"1601\"}],\"center\":[{\"id\":\"1604\"},{\"id\":\"1608\"}],\"left\":[{\"id\":\"1605\"}],\"plot_height\":300,\"plot_width\":800,\"renderers\":[{\"id\":\"1626\"}],\"title\":{\"id\":\"1652\"},\"toolbar\":{\"id\":\"1616\"},\"x_range\":{\"id\":\"1593\"},\"x_scale\":{\"id\":\"1597\"},\"y_range\":{\"id\":\"1595\"},\"y_scale\":{\"id\":\"1599\"}},\"id\":\"1592\",\"subtype\":\"Figure\",\"type\":\"Plot\"},{\"attributes\":{\"text\":\"\"},\"id\":\"1652\",\"type\":\"Title\"},{\"attributes\":{},\"id\":\"1599\",\"type\":\"LinearScale\"},{\"attributes\":{\"overlay\":{\"id\":\"1615\"}},\"id\":\"1611\",\"type\":\"BoxZoomTool\"},{\"attributes\":{},\"id\":\"1613\",\"type\":\"ResetTool\"},{\"attributes\":{},\"id\":\"1606\",\"type\":\"BasicTicker\"},{\"attributes\":{\"bottom_units\":\"screen\",\"fill_alpha\":0.5,\"fill_color\":\"lightgrey\",\"left_units\":\"screen\",\"level\":\"overlay\",\"line_alpha\":1.0,\"line_color\":\"black\",\"line_dash\":[4,4],\"line_width\":2,\"right_units\":\"screen\",\"top_units\":\"screen\"},\"id\":\"1615\",\"type\":\"BoxAnnotation\"},{\"attributes\":{\"axis\":{\"id\":\"1601\"},\"ticker\":null},\"id\":\"1604\",\"type\":\"Grid\"},{\"attributes\":{},\"id\":\"1654\",\"type\":\"BasicTickFormatter\"},{\"attributes\":{},\"id\":\"1593\",\"type\":\"DataRange1d\"},{\"attributes\":{},\"id\":\"1656\",\"type\":\"BasicTickFormatter\"},{\"attributes\":{\"line_color\":\"#1f77b4\",\"x\":{\"field\":\"x\"},\"y\":{\"field\":\"y\"}},\"id\":\"1624\",\"type\":\"Line\"},{\"attributes\":{},\"id\":\"1609\",\"type\":\"PanTool\"},{\"attributes\":{\"data_source\":{\"id\":\"1623\"},\"glyph\":{\"id\":\"1624\"},\"hover_glyph\":null,\"muted_glyph\":null,\"nonselection_glyph\":{\"id\":\"1625\"},\"selection_glyph\":null,\"view\":{\"id\":\"1627\"}},\"id\":\"1626\",\"type\":\"GlyphRenderer\"},{\"attributes\":{\"axis_label\":\"Mass on left side (g)\",\"formatter\":{\"id\":\"1656\"},\"ticker\":{\"id\":\"1606\"}},\"id\":\"1605\",\"type\":\"LinearAxis\"},{\"attributes\":{\"axis_label\":\"Time (s)\",\"formatter\":{\"id\":\"1654\"},\"ticker\":{\"id\":\"1602\"}},\"id\":\"1601\",\"type\":\"LinearAxis\"},{\"attributes\":{\"active_drag\":\"auto\",\"active_inspect\":\"auto\",\"active_multi\":null,\"active_scroll\":\"auto\",\"active_tap\":\"auto\",\"tools\":[{\"id\":\"1609\"},{\"id\":\"1610\"},{\"id\":\"1611\"},{\"id\":\"1612\"},{\"id\":\"1613\"},{\"id\":\"1614\"}]},\"id\":\"1616\",\"type\":\"Toolbar\"},{\"attributes\":{},\"id\":\"1595\",\"type\":\"DataRange1d\"},{\"attributes\":{},\"id\":\"1612\",\"type\":\"SaveTool\"},{\"attributes\":{\"line_alpha\":0.1,\"line_color\":\"#1f77b4\",\"x\":{\"field\":\"x\"},\"y\":{\"field\":\"y\"}},\"id\":\"1625\",\"type\":\"Line\"},{\"attributes\":{},\"id\":\"1660\",\"type\":\"UnionRenderers\"},{\"attributes\":{},\"id\":\"1659\",\"type\":\"Selection\"},{\"attributes\":{\"data\":{\"x\":[0.0,1.0,2.0,3.0,4.0,5.0,6.0,7.0,8.0,9.0,10.0,11.0,12.0,13.0,14.0,15.0,16.0,17.0,18.0,19.0,20.0,21.0,22.0,23.0,24.0,25.0,26.0,27.0,28.0,29.0,30.0,31.0,32.0,33.0,34.0,35.0,36.0,37.0,38.0,39.0,40.0,41.0,42.0,43.0,44.0,45.0,46.0,47.0,48.0,49.0,50.0,51.0,52.0,53.0,54.0,55.0,56.0,57.0],\"y\":[0.37387944069519335,0.37376970817821015,0.3745027124351526,0.3743614761908885,0.3744876252550429,0.375800081799138,0.37592702835053105,0.37605749449832926,0.3765777702863477,0.3773148012273219,0.37887755675209406,0.37888874213883056,0.3793127206459335,0.3795541658297484,0.37965494818676215,0.38040825354151586,0.3803986257431055,0.3804039196816593,0.38074187378282526,0.38141655873550245,0.3813193520186999,0.3819149087777805,0.38129945885466127,0.38250402019898,0.3827400814846855,0.38253660153176605,0.3844241977894096,0.38480892199786604,0.3855376607968857,0.3855066417369421,0.3860014811764365,0.38612565808801064,0.3875469617982235,0.3877096292635352,0.387611489145921,0.3889050207053738,0.38904890747606147,0.38959745706131305,0.3899758879400797,0.38999100952701804,0.39045056676475215,0.3917616141163236,0.3909986411581479,0.39198553546049253,0.39228374462688514,0.39249140853983266,0.3925514360578707,0.3938730296517312,0.3943640109637482,0.39528080939242666,0.3952111383197301,0.39539984464173167,0.3966443470580102,0.39635173902646215,0.3960296814848217,0.3951282242181653,0.39606489438291737,0.3965481689905685]},\"selected\":{\"id\":\"1659\"},\"selection_policy\":{\"id\":\"1660\"}},\"id\":\"1623\",\"type\":\"ColumnDataSource\"},{\"attributes\":{},\"id\":\"1610\",\"type\":\"WheelZoomTool\"},{\"attributes\":{},\"id\":\"1602\",\"type\":\"BasicTicker\"},{\"attributes\":{},\"id\":\"1597\",\"type\":\"LinearScale\"},{\"attributes\":{\"source\":{\"id\":\"1623\"}},\"id\":\"1627\",\"type\":\"CDSView\"},{\"attributes\":{\"axis\":{\"id\":\"1605\"},\"dimension\":1,\"ticker\":null},\"id\":\"1608\",\"type\":\"Grid\"},{\"attributes\":{},\"id\":\"1614\",\"type\":\"HelpTool\"}],\"root_ids\":[\"1592\"]},\"title\":\"Bokeh Application\",\"version\":\"2.2.3\"}};\n",
       "  var render_items = [{\"docid\":\"56a49419-723a-43d7-9f9e-31a05186202e\",\"root_ids\":[\"1592\"],\"roots\":{\"1592\":\"8763ac9b-821f-4ab4-ab4c-6e392c5fe5a4\"}}];\n",
       "  root.Bokeh.embed.embed_items_notebook(docs_json, render_items);\n",
       "\n",
       "  }\n",
       "  if (root.Bokeh !== undefined) {\n",
       "    embed_document(root);\n",
       "  } else {\n",
       "    var attempts = 0;\n",
       "    var timer = setInterval(function(root) {\n",
       "      if (root.Bokeh !== undefined) {\n",
       "        clearInterval(timer);\n",
       "        embed_document(root);\n",
       "      } else {\n",
       "        attempts++;\n",
       "        if (attempts > 100) {\n",
       "          clearInterval(timer);\n",
       "          console.log(\"Bokeh: ERROR: Unable to run BokehJS code because BokehJS library is missing\");\n",
       "        }\n",
       "      }\n",
       "    }, 10, root)\n",
       "  }\n",
       "})(window);"
      ],
      "application/vnd.bokehjs_exec.v0+json": ""
     },
     "metadata": {
      "application/vnd.bokehjs_exec.v0+json": {
       "id": "1592"
      }
     },
     "output_type": "display_data"
    }
   ],
   "source": [
    "p2 = figure(plot_width=800, plot_height=300)\n",
    "p2.line(times,mass_on_left)\n",
    "p2.xaxis.axis_label='Time (s)'\n",
    "p2.yaxis.axis_label='Mass on left side (g)'\n",
    "show(p2)"
   ]
  },
  {
   "cell_type": "markdown",
   "metadata": {},
   "source": [
    "Calculate mean flux and mean gradient\n",
    "--\n",
    "\n",
    "Define the flux $J_x$ as positive in the $+x$ direction,\n",
    "which provies the minus sign in the above equation.\n",
    "\n",
    "$$J_x = - \\frac{1}{A} \\frac{d m_{L}}{dt}$$\n",
    "\n",
    "Where $m_L$ is the mass on the left side of the domain.\n",
    "\n",
    "Calculate both the flux $J_x$ and gradient $\\partial C/\\partial x$\n",
    "as an average from $t=0$ to $t=t_{last}$\n"
   ]
  },
  {
   "cell_type": "code",
   "execution_count": 39,
   "metadata": {},
   "outputs": [
    {
     "name": "stdout",
     "output_type": "stream",
     "text": [
      "flux=-0.00040 g/m^2 averaged from t=0.0s to t=57.0s\n"
     ]
    }
   ],
   "source": [
    "delta_m=(mass_on_left[-1] - mass_on_left[0])\n",
    "delta_t=(times[-1] - times[0])\n",
    "m_dot=delta_m/delta_t # ~ g/s\n",
    "flux=-m_dot/box_A # ~ g/s/m2\n",
    "print(f\"flux={flux:.5f} g/m^2 averaged from t={times[0]}s to t={times[-1]}s\")"
   ]
  },
  {
   "cell_type": "code",
   "execution_count": 40,
   "metadata": {},
   "outputs": [
    {
     "name": "stdout",
     "output_type": "stream",
     "text": [
      "Average gradient so far: 0.89 (g/m3)/m\n"
     ]
    }
   ],
   "source": [
    "gradient=np.mean(gradients)\n",
    "print(f\"Average gradient so far: {gradient:.2f} (g/m3)/m\")"
   ]
  },
  {
   "cell_type": "markdown",
   "metadata": {},
   "source": [
    "Estimate $D$ from the experiment\n",
    "--\n",
    "\n",
    "Based on our definition of Fickian flux:\n",
    "$$J_x \\approx -D \\frac{\\partial C}{\\partial x}$$"
   ]
  },
  {
   "cell_type": "code",
   "execution_count": 41,
   "metadata": {},
   "outputs": [
    {
     "name": "stdout",
     "output_type": "stream",
     "text": [
      "Observed diffusion coefficient: 0.000447 m^2/s\n"
     ]
    }
   ],
   "source": [
    "Dobs=-flux / gradient\n",
    "print(f\"Observed diffusion coefficient: {Dobs:.6f} m^2/s\")"
   ]
  },
  {
   "cell_type": "markdown",
   "metadata": {},
   "source": [
    "Estimate $D$ by Scaling\n",
    "--"
   ]
  },
  {
   "cell_type": "code",
   "execution_count": 42,
   "metadata": {},
   "outputs": [
    {
     "name": "stdout",
     "output_type": "stream",
     "text": [
      "Estimated diffusion coefficent from scaling: 0.002500 m^2/s\n"
     ]
    }
   ],
   "source": [
    "u_m=L/dt \n",
    "\n",
    "Dscaled=u_m*L\n",
    "print(f\"Estimated diffusion coefficent from scaling: {Dscaled:.6f} m^2/s\")"
   ]
  },
  {
   "cell_type": "markdown",
   "metadata": {},
   "source": [
    "Good news: The sign is correct.\n",
    "\n",
    "Better news: The order of magnitude is roughly correct. \n",
    "\n",
    "For scaling relationships and the\n",
    "types of approximations we will encounter, that is often as good as it gets.\n",
    "\n",
    "But why are we off by nearly an order of magnitude? How can this be improved?"
   ]
  },
  {
   "cell_type": "markdown",
   "metadata": {},
   "source": [
    "Fokker-Planck Solution for Random Walks\n",
    "--\n",
    "\n",
    "The Fokker-Planck equation is a stochastic differential equation\n",
    "that links our continuous view of diffusion (and advection) to \n",
    "the probability distribution of particle movement. \n",
    "\n",
    "For this experiment, we can use a simplified solution to F-P from\n",
    "Visser:\n",
    "\n",
    "Assuming a uniform $D$, and a uniform random variable $R \\in [-1,1]$,\n",
    "particle steps along a specific axis are given by:\n",
    "\n",
    "$$ \\Delta x = R  \\sqrt{2 r^{-1} D \\Delta t} $$ \n",
    "\n",
    "where $r$ is the standard deviation of $R$, $r=\\sqrt{E[R^2]}=1/3$.\n",
    "\n",
    "In our \"experiment\" $\\Delta x$ is uniform over $[-L,L]$, \n",
    "equivalent to assuming $\\sqrt{2r^{-1}D\\Delta t}=L$.\n",
    "\n",
    "In that case, the $D$ that is *actually* simulated is:\n",
    "\n",
    "$$D = \\frac{r}{2} \\frac{L^2}{\\Delta t} = \\frac{D_{scaled}}{6}$$"
   ]
  },
  {
   "cell_type": "code",
   "execution_count": 44,
   "metadata": {},
   "outputs": [
    {
     "name": "stdout",
     "output_type": "stream",
     "text": [
      "Scaled D:      0.002500 m^2/s\n",
      "Observed D:    0.000447 m^2/s\n",
      "Appoximated D: 0.000417 m^2/s\n"
     ]
    }
   ],
   "source": [
    "Dapp=u_m*L/6\n",
    "print(f\"Scaled D:      {Dscaled:.6f} m^2/s\")\n",
    "print(f\"Observed D:    {Dobs:.6f} m^2/s\")\n",
    "print(f\"Appoximated D: {Dapp:.6f} m^2/s\")"
   ]
  },
  {
   "cell_type": "markdown",
   "metadata": {},
   "source": [
    "Still not exact?? Chalk it up to unsteadiness and randomness.\n",
    "\n",
    "Note that the gradient is changing in time, and it can take very large numbers of particles to even out the noise of a random process. As the number of particles is increased and the walls of the box moved away from our area of interest, the observed and expected diffusion coefficients will converge.\n"
   ]
  }
 ],
 "metadata": {
  "kernelspec": {
   "display_name": "Python 3",
   "language": "python",
   "name": "python3"
  },
  "language_info": {
   "codemirror_mode": {
    "name": "ipython",
    "version": 3
   },
   "file_extension": ".py",
   "mimetype": "text/x-python",
   "name": "python",
   "nbconvert_exporter": "python",
   "pygments_lexer": "ipython3",
   "version": "3.9.1"
  }
 },
 "nbformat": 4,
 "nbformat_minor": 4
}
