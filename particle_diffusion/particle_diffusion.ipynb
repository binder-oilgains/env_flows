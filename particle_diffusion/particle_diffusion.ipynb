{
 "cells": [
  {
   "cell_type": "markdown",
   "metadata": {},
   "source": [
    "A Diffusion \"Experiment\"\n",
    "==\n",
    "\n",
    "This notebook is a simulation of\n",
    "random particle motion, and how they related\n",
    "to a diffusion coefficient."
   ]
  },
  {
   "cell_type": "code",
   "execution_count": null,
   "metadata": {},
   "outputs": [],
   "source": [
    "# Load code related to plotting:\n",
    "from bokeh.io import push_notebook, show, output_notebook\n",
    "from bokeh.layouts import row\n",
    "from bokeh.plotting import figure\n",
    "from bokeh import palettes\n",
    "from bokeh.transform import linear_cmap\n",
    "from bokeh.models import ColorBar, ColumnDataSource\n",
    "output_notebook()\n",
    "\n",
    "# Load code to make our simulation interactive in this notebook.\n",
    "import ipywidgets as widgets\n",
    "\n",
    "# Our simulation will use functions from numpy\n",
    "import numpy as np"
   ]
  },
  {
   "cell_type": "code",
   "execution_count": null,
   "metadata": {},
   "outputs": [],
   "source": [
    "# The simulation:\n",
    "\n",
    "# Parameters for the experiment:\n",
    "N=4000 # number of particles\n",
    "L=0.05 # length scale for random steps\n",
    "dt=1.0 # time scale for random steps\n",
    "box_dx=1.0 # dimensions of the box the particles move around in.\n",
    "box_dy=1.0 # \n",
    "box_dz=1.0 #\n",
    "# We will look at the flux through a surface in the middle of\n",
    "# the box, perpendicular to the x axis. \n",
    "box_A=box_dy*box_dz # area of that surface\n",
    "box_V=box_dx*box_dy*box_dz # volume of the whole box."
   ]
  },
  {
   "cell_type": "code",
   "execution_count": null,
   "metadata": {},
   "outputs": [],
   "source": [
    "# The state of our simulation, an instantaneous description\n",
    "# of the evolving system:\n",
    "def initialize():\n",
    "    global part_x,part_y,part_z,part_mass\n",
    "    global t, mass_on_left, times, gradients\n",
    "    \n",
    "    part_x=np.random.uniform(low=-box_dx/2,high=box_dx/2,size=N)\n",
    "    part_y=np.random.uniform(low=-box_dy/2,high=box_dy/2,size=N)\n",
    "    part_z=np.random.uniform(low=-box_dz/2,high=box_dz/2,size=N)\n",
    "\n",
    "    # particle mass is initialize with the x coordinate to create a \n",
    "    # smooth gradient in x.\n",
    "    part_mass=1+part_x # to be concrete, let's call the units grams.\n",
    "\n",
    "    t=0.0 # simulation time.\n",
    "\n",
    "    # Simulation will update particle locations, and at each step\n",
    "    # calculate these summary quantities:\n",
    "    mass_on_left=[] # mass of particles on the left half of the box\n",
    "    times=[]        # simulation time associated with each step.\n",
    "    gradients=[]    # mass gradient \n",
    "\n",
    "# The code for our simulation has two tasks:\n",
    "#  1. Update the state (part_x,part_y,part_z,t)\n",
    "#  2. Record summary information.\n",
    "\n",
    "def step_forward():\n",
    "    # Make these global so they can be updated from within\n",
    "    # this function.\n",
    "    global part_x,part_y,part_z,t\n",
    "    \n",
    "    # For each direction, add a random jump, uniformly\n",
    "    # random between [-L,+L]\n",
    "    part_x += np.random.uniform(low=-L,high=L,size=N)\n",
    "    part_y += np.random.uniform(low=-L,high=L,size=N)\n",
    "    part_z += np.random.uniform(low=-L,high=L,size=N)\n",
    "\n",
    "    # Particles that would leave our box get \"bounced\"\n",
    "    # back into the box\n",
    "    x_outside=part_x - part_x.clip(-box_dx/2,box_dx/2)\n",
    "    y_outside=part_y - part_y.clip(-box_dy/2,box_dy/2)\n",
    "    z_outside=part_z - part_z.clip(-box_dz/2,box_dz/2)\n",
    "    part_x-=2*x_outside\n",
    "    part_y-=2*y_outside\n",
    "    part_z-=2*z_outside\n",
    "    t+=dt\n",
    "    \n",
    "def record():\n",
    "    times.append(t)\n",
    "    mass_on_left.append( part_mass[part_x<0.0].sum() )\n",
    "    slope,inter =np.polyfit(part_x,part_mass,1)\n",
    "    gradients.append(slope*N/box_V)\n",
    "\n",
    "initialize() # Create initial state\n",
    "record() # Save the initial state."
   ]
  },
  {
   "cell_type": "code",
   "execution_count": null,
   "metadata": {},
   "outputs": [],
   "source": [
    "part_data=ColumnDataSource(dict(x=part_x,y=part_y,m=part_mass))\n",
    "colors=linear_cmap(field_name='m',low=part_mass.min(),high=part_mass.max(),\n",
    "                   palette=palettes.Plasma256)\n",
    "\n",
    "p = figure(x_range=[-box_dx/2, box_dx/2], y_range=[-box_dy/2, box_dy/2],\n",
    "           plot_width=800, plot_height=300)\n",
    "\n",
    "r = p.circle(x='x',y='y', radius=0.005, \n",
    "             fill_color=colors, fill_alpha=0.6, line_color=None, source=part_data)\n",
    "color_bar = ColorBar(color_mapper=colors['transform'], width=8,  location=(0,0))\n",
    "\n",
    "p.add_layout(color_bar, 'right')\n",
    "\n",
    "# get and explicit handle to update the next show cell with\n",
    "target = show(p, notebook_handle=True)\n",
    "\n",
    "def plot_update(step,length):\n",
    "    global L\n",
    "    L=length\n",
    "    if (step==0) and (t>0):\n",
    "        initialize()\n",
    "        r.data_source.data['m']=part_mass\n",
    "    elif step>0:\n",
    "        step_forward()\n",
    "    record()\n",
    "\n",
    "    r.data_source.data['x']=part_x\n",
    "    r.data_source.data['y']=part_y\n",
    "    push_notebook(handle=target)\n",
    "        \n",
    "widgets.interact(plot_update,\n",
    "                 step=widgets.Play(value=0,\n",
    "                                   min=0, max=10000,\n",
    "                                   step=1, interval=20),\n",
    "                 length=widgets.FloatSlider(value=0.05,min=0,max=0.2,\n",
    "                                        step=0.005,\n",
    "                                        description='L:',\n",
    "                                        orientation='horizontal',\n",
    "                                        readout=True,\n",
    "                                        readout_format='.3f'))\n",
    ";"
   ]
  },
  {
   "cell_type": "markdown",
   "metadata": {},
   "source": [
    "How did the particle distribution evolve over time?\n",
    "--"
   ]
  },
  {
   "cell_type": "code",
   "execution_count": null,
   "metadata": {},
   "outputs": [],
   "source": [
    "# We record mass on the left side. \n",
    "p2 = figure(plot_width=800, plot_height=300)\n",
    "p2.line(times,mass_on_left)\n",
    "p2.xaxis.axis_label='Time'\n",
    "p2.yaxis.axis_label='Mass on left side'\n",
    "show(p2)"
   ]
  },
  {
   "cell_type": "markdown",
   "metadata": {},
   "source": [
    "Relate mass on the left side to the flux through the center"
   ]
  },
  {
   "cell_type": "code",
   "execution_count": null,
   "metadata": {},
   "outputs": [],
   "source": [
    "# mass flux through x=0, from left to right, is equal to \n",
    "# th negative of the the change\n",
    "# in mass on the left side (since the rest of the box is closed)\n",
    "dMdt=(mass_on_left[-1] - mass_on_left[0])/(times[-1] - times[0])\n",
    "flux=-dMdt/box_A # mass/area*time\n",
    "print(f\"Average flux so far: {flux:.4f} grams/m^3\") # UNITS!"
   ]
  },
  {
   "cell_type": "code",
   "execution_count": null,
   "metadata": {},
   "outputs": [],
   "source": [
    "# The gradient is changing over time, so take its average, too.\n",
    "gradient=np.mean(gradients)\n",
    "print(f\"Average gradient so far: {gradient:.2f} weird units\")"
   ]
  },
  {
   "cell_type": "code",
   "execution_count": null,
   "metadata": {},
   "outputs": [],
   "source": [
    "# What kind of diffusion coefficient do we \"observe\" ?\n",
    "# flux ~ -D dC/dx\n",
    "Dobs=-flux / gradient\n",
    "print(f\"Observed diffusion coefficient: {Dobs:.6f} m^2/s\")"
   ]
  },
  {
   "cell_type": "code",
   "execution_count": null,
   "metadata": {},
   "outputs": [],
   "source": [
    "u=L/dt\n",
    "\n",
    "Dscaled=u*L\n",
    "print(f\"Estimated diffusion coefficent from scaling: {Dscaled:.6f} m^2/s\")"
   ]
  },
  {
   "cell_type": "markdown",
   "metadata": {},
   "source": [
    "Good news: The sign is correct.\n",
    "\n",
    "Better news: The order of magnitude is roughly correct. \n",
    "\n",
    "For scaling relationships and the\n",
    "types of approximations we will encounter, that is often as good as it gets."
   ]
  },
  {
   "cell_type": "markdown",
   "metadata": {},
   "source": [
    "If you are curious\n",
    "===\n",
    "\n",
    "Why are we off by almost an order of magnitude?\n",
    "\n",
    "\n",
    "Fokker-Planck Solution for Random Walks\n",
    "--\n",
    "\n",
    "Uniform $D$, $R$ is uniformly distributed $[-1,1]$\n",
    "\n",
    "$$ \\Delta x = R  \\sqrt{2 r^{-1} D \\Delta t} $$ \n",
    "\n",
    "where $r$ is the standard deviation of $R$, $r=\\sqrt{E[R^2]}=1/3$."
   ]
  },
  {
   "cell_type": "markdown",
   "metadata": {},
   "source": [
    "In my toy example $\\Delta x$ is uniform over $[-L,L]$\n",
    "\n",
    "In relation to Fokker-Planck, I'm assuming $\\sqrt{2r^{-1}D\\Delta t}=L$."
   ]
  },
  {
   "cell_type": "markdown",
   "metadata": {},
   "source": [
    "That means the $D$ that I'm *actually* simulating is...\n",
    "\n",
    "$$D = \\frac{r}{2} \\frac{L^2}{\\Delta t} = \\frac{D_{scaled}}{6}$$\n",
    "\n"
   ]
  },
  {
   "cell_type": "code",
   "execution_count": null,
   "metadata": {},
   "outputs": [],
   "source": [
    "Dapp=u*L/6\n",
    "print(f\"Observed D:    {Dobs:.6f} m^2/s\")\n",
    "print(f\"Scaled D:      {Dscaled:.6f} m^2/s\")\n",
    "print(f\"Appoximated D: {Dapp:.6f} m^2/s\")\n"
   ]
  },
  {
   "cell_type": "markdown",
   "metadata": {},
   "source": [
    "Still not exact??\n",
    "\n",
    "Unsteadiness and randomness affect the \"observed\" diffusion.  The gradient is changing in time, and it can take very large numbers of particles to even out the noise of a random process. As the number of particles is increased and the walls of the box moved away from our area of interest, the observed and expected diffusion coefficients will converge."
   ]
  }
 ],
 "metadata": {
  "kernelspec": {
   "display_name": "Python 3",
   "language": "python",
   "name": "python3"
  },
  "language_info": {
   "codemirror_mode": {
    "name": "ipython",
    "version": 3
   },
   "file_extension": ".py",
   "mimetype": "text/x-python",
   "name": "python",
   "nbconvert_exporter": "python",
   "pygments_lexer": "ipython3",
   "version": "3.9.1"
  }
 },
 "nbformat": 4,
 "nbformat_minor": 4
}
